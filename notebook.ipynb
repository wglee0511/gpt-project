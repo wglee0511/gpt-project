{
 "cells": [
  {
   "cell_type": "code",
   "execution_count": null,
   "metadata": {},
   "outputs": [],
   "source": [
    "from langchain.chat_models import ChatOpenAI\n",
    "from langchain.callbacks import get_openai_callback\n",
    "\n",
    "chat_model = ChatOpenAI(\n",
    "    temperature=0.1,\n",
    "    max_tokens=500,\n",
    "    model=\"gpt-3.5-turbo\"\n",
    "    # streaming=True,\n",
    "    # callbacks=[StreamingStdOutCallbackHandler()] \n",
    ")\n",
    "\n",
    "with get_openai_callback() as usage:\n",
    "    chat_model.predict(\"소주를 만드는 법\")\n",
    "    print(usage)\n",
    "\n"
   ]
  }
 ],
 "metadata": {
  "kernelspec": {
   "display_name": "env",
   "language": "python",
   "name": "python3"
  },
  "language_info": {
   "codemirror_mode": {
    "name": "ipython",
    "version": 3
   },
   "file_extension": ".py",
   "mimetype": "text/x-python",
   "name": "python",
   "nbconvert_exporter": "python",
   "pygments_lexer": "ipython3",
   "version": "3.11.6"
  }
 },
 "nbformat": 4,
 "nbformat_minor": 2
}
