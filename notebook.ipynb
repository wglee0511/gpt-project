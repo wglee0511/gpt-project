{
 "cells": [
  {
   "cell_type": "code",
   "execution_count": 125,
   "metadata": {},
   "outputs": [
    {
     "name": "stdout",
     "output_type": "stream",
     "text": [
      "\u001b[32;1m\u001b[1;3m[llm/start]\u001b[0m \u001b[1m[1:llm:ChatOpenAI] Entering LLM run with input:\n",
      "\u001b[0m{\n",
      "  \"prompts\": [\n",
      "    \"Human: 소주를 만드는 법\"\n",
      "  ]\n",
      "}\n",
      "\u001b[36;1m\u001b[1;3m[llm/end]\u001b[0m \u001b[1m[1:llm:ChatOpenAI] [2.11s] Exiting LLM run with output:\n",
      "\u001b[0m{\n",
      "  \"generations\": [\n",
      "    [\n",
      "      {\n",
      "        \"text\": \"1. 보리를 발효시킨 후 증류하여 술을 만든다.\\n2. 술을 숙성시키고 여러 번 걸러 깨끗한 상태로 만든다.\\n3. 술을 물과 섞어 적절한 도수로 조절한다.\\n4. 필요에 따라 향신료나 과일 등을 첨가하여 맛을 낸다.\\n5. 마지막으로 적절한 온도와 시간에 숙성시켜 완성한다.\",\n",
      "        \"generation_info\": {\n",
      "          \"finish_reason\": \"stop\"\n",
      "        },\n",
      "        \"type\": \"ChatGeneration\",\n",
      "        \"message\": {\n",
      "          \"lc\": 1,\n",
      "          \"type\": \"constructor\",\n",
      "          \"id\": [\n",
      "            \"langchain\",\n",
      "            \"schema\",\n",
      "            \"messages\",\n",
      "            \"AIMessage\"\n",
      "          ],\n",
      "          \"kwargs\": {\n",
      "            \"content\": \"1. 보리를 발효시킨 후 증류하여 술을 만든다.\\n2. 술을 숙성시키고 여러 번 걸러 깨끗한 상태로 만든다.\\n3. 술을 물과 섞어 적절한 도수로 조절한다.\\n4. 필요에 따라 향신료나 과일 등을 첨가하여 맛을 낸다.\\n5. 마지막으로 적절한 온도와 시간에 숙성시켜 완성한다.\",\n",
      "            \"additional_kwargs\": {}\n",
      "          }\n",
      "        }\n",
      "      }\n",
      "    ]\n",
      "  ],\n",
      "  \"llm_output\": {\n",
      "    \"token_usage\": {\n",
      "      \"prompt_tokens\": 15,\n",
      "      \"completion_tokens\": 144,\n",
      "      \"total_tokens\": 159\n",
      "    },\n",
      "    \"model_name\": \"gpt-3.5-turbo\",\n",
      "    \"system_fingerprint\": null\n",
      "  },\n",
      "  \"run\": null\n",
      "}\n",
      "Tokens Used: 159\n",
      "\tPrompt Tokens: 15\n",
      "\tCompletion Tokens: 144\n",
      "Successful Requests: 1\n",
      "Total Cost (USD): $0.0003105\n"
     ]
    }
   ],
   "source": [
    "from langchain.chat_models import ChatOpenAI\n",
    "from langchain.callbacks import get_openai_callback\n",
    "\n",
    "chat_model = ChatOpenAI(\n",
    "    temperature=0.1,\n",
    "    max_tokens=500,\n",
    "    model=\"gpt-3.5-turbo\"\n",
    "    # streaming=True,\n",
    "    # callbacks=[StreamingStdOutCallbackHandler()] \n",
    ")\n",
    "\n",
    "with get_openai_callback() as usage:\n",
    "    chat_model.predict(\"소주를 만드는 법\")\n",
    "    print(usage)\n",
    "\n"
   ]
  }
 ],
 "metadata": {
  "kernelspec": {
   "display_name": "env",
   "language": "python",
   "name": "python3"
  },
  "language_info": {
   "codemirror_mode": {
    "name": "ipython",
    "version": 3
   },
   "file_extension": ".py",
   "mimetype": "text/x-python",
   "name": "python",
   "nbconvert_exporter": "python",
   "pygments_lexer": "ipython3",
   "version": "3.11.6"
  }
 },
 "nbformat": 4,
 "nbformat_minor": 2
}
