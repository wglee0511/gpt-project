{
 "cells": [
  {
   "cell_type": "code",
   "execution_count": 119,
   "metadata": {},
   "outputs": [
    {
     "name": "stdout",
     "output_type": "stream",
     "text": [
      "\u001b[32;1m\u001b[1;3m[llm/start]\u001b[0m \u001b[1m[1:llm:ChatOpenAI] Entering LLM run with input:\n",
      "\u001b[0m{\n",
      "  \"prompts\": [\n",
      "    \"Human: 파스타는 어떻게 만드나요?\"\n",
      "  ]\n",
      "}\n",
      "파스타를 만드는 방법은 간단합니다. 먼저 물을 끓인 후 소금을 넣고 파스타를 넣어서 삶아줍니다. 삶는 시간은 각각의 파스타 종류에 따라 다르므로 포장지에 적힌 시간을 참고하시면 됩니다. \n",
      "\n",
      "파스타를 삶는 동안, 별도의 팬에 올리브 오일을 데워 양파와 마늘을 볶아줍니다. 그 후 토마토 소스나 크림 소스를 넣어서 볶아줍니다. \n",
      "\n",
      "파스타가 삶아지면 물을 따라서 체에 밭쳐 물기를 뺀 후 소스와 섞어줍니다. 마지막으로 파마산 치즈나 파슬리를 곁들여서 완성하면 됩니다. 맛있는 파스타가 완성되었습니다!\u001b[36;1m\u001b[1;3m[llm/end]\u001b[0m \u001b[1m[1:llm:ChatOpenAI] [6.21s] Exiting LLM run with output:\n",
      "\u001b[0m{\n",
      "  \"generations\": [\n",
      "    [\n",
      "      {\n",
      "        \"text\": \"파스타를 만드는 방법은 간단합니다. 먼저 물을 끓인 후 소금을 넣고 파스타를 넣어서 삶아줍니다. 삶는 시간은 각각의 파스타 종류에 따라 다르므로 포장지에 적힌 시간을 참고하시면 됩니다. \\n\\n파스타를 삶는 동안, 별도의 팬에 올리브 오일을 데워 양파와 마늘을 볶아줍니다. 그 후 토마토 소스나 크림 소스를 넣어서 볶아줍니다. \\n\\n파스타가 삶아지면 물을 따라서 체에 밭쳐 물기를 뺀 후 소스와 섞어줍니다. 마지막으로 파마산 치즈나 파슬리를 곁들여서 완성하면 됩니다. 맛있는 파스타가 완성되었습니다!\",\n",
      "        \"generation_info\": {\n",
      "          \"finish_reason\": \"stop\"\n",
      "        },\n",
      "        \"type\": \"ChatGenerationChunk\",\n",
      "        \"message\": {\n",
      "          \"lc\": 1,\n",
      "          \"type\": \"constructor\",\n",
      "          \"id\": [\n",
      "            \"langchain\",\n",
      "            \"schema\",\n",
      "            \"messages\",\n",
      "            \"AIMessageChunk\"\n",
      "          ],\n",
      "          \"kwargs\": {\n",
      "            \"example\": false,\n",
      "            \"content\": \"파스타를 만드는 방법은 간단합니다. 먼저 물을 끓인 후 소금을 넣고 파스타를 넣어서 삶아줍니다. 삶는 시간은 각각의 파스타 종류에 따라 다르므로 포장지에 적힌 시간을 참고하시면 됩니다. \\n\\n파스타를 삶는 동안, 별도의 팬에 올리브 오일을 데워 양파와 마늘을 볶아줍니다. 그 후 토마토 소스나 크림 소스를 넣어서 볶아줍니다. \\n\\n파스타가 삶아지면 물을 따라서 체에 밭쳐 물기를 뺀 후 소스와 섞어줍니다. 마지막으로 파마산 치즈나 파슬리를 곁들여서 완성하면 됩니다. 맛있는 파스타가 완성되었습니다!\",\n",
      "            \"additional_kwargs\": {}\n",
      "          }\n",
      "        }\n",
      "      }\n",
      "    ]\n",
      "  ],\n",
      "  \"llm_output\": null,\n",
      "  \"run\": null\n",
      "}\n"
     ]
    },
    {
     "data": {
      "text/plain": [
       "'파스타를 만드는 방법은 간단합니다. 먼저 물을 끓인 후 소금을 넣고 파스타를 넣어서 삶아줍니다. 삶는 시간은 각각의 파스타 종류에 따라 다르므로 포장지에 적힌 시간을 참고하시면 됩니다. \\n\\n파스타를 삶는 동안, 별도의 팬에 올리브 오일을 데워 양파와 마늘을 볶아줍니다. 그 후 토마토 소스나 크림 소스를 넣어서 볶아줍니다. \\n\\n파스타가 삶아지면 물을 따라서 체에 밭쳐 물기를 뺀 후 소스와 섞어줍니다. 마지막으로 파마산 치즈나 파슬리를 곁들여서 완성하면 됩니다. 맛있는 파스타가 완성되었습니다!'"
      ]
     },
     "execution_count": 119,
     "metadata": {},
     "output_type": "execute_result"
    }
   ],
   "source": [
    "from langchain.chat_models import ChatOpenAI\n",
    "from langchain.prompts.pipeline import PipelinePromptTemplate\n",
    "from langchain.globals import set_llm_cache, set_debug\n",
    "from langchain.callbacks import StreamingStdOutCallbackHandler\n",
    "from langchain.cache import InMemoryCache\n",
    "\n",
    "set_llm_cache(InMemoryCache())\n",
    "set_debug(True)\n",
    "\n",
    "chat_model = ChatOpenAI(\n",
    "    temperature=0.1,\n",
    "    streaming=True,\n",
    "    callbacks=[StreamingStdOutCallbackHandler()] \n",
    ")\n",
    "\n",
    "chat_model.predict(\"파스타는 어떻게 만드나요?\")\n",
    "\n",
    "\n",
    " \n",
    "\n"
   ]
  }
 ],
 "metadata": {
  "kernelspec": {
   "display_name": "env",
   "language": "python",
   "name": "python3"
  },
  "language_info": {
   "codemirror_mode": {
    "name": "ipython",
    "version": 3
   },
   "file_extension": ".py",
   "mimetype": "text/x-python",
   "name": "python",
   "nbconvert_exporter": "python",
   "pygments_lexer": "ipython3",
   "version": "3.11.6"
  }
 },
 "nbformat": 4,
 "nbformat_minor": 2
}
