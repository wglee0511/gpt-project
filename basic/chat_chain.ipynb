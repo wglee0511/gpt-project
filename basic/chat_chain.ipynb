{
 "cells": [
  {
   "cell_type": "code",
   "execution_count": 73,
   "metadata": {},
   "outputs": [
    {
     "name": "stdout",
     "output_type": "stream",
     "text": [
      "짬뽕을 만들기 위해서는 다음 재료들이 필요합니다:\n",
      "- 해물 (새우, 오징어, 홍합 등)\n",
      "- 돼지고기 혹은 닭고기\n",
      "- 양파, 대파, 마늘, 생강\n",
      "- 고추, 당근, 양배추\n",
      "- 짬뽕 스프 또는 고추장\n",
      "\n",
      "해물은 수산물가게나 마트에서 신선한 것을 구입할 수 있습니다. 돼지고기나 닭고기는 정육점에서 구입하실 수 있습니다. 채소들은 슈퍼마켓이나 농산물가게에서 구입하실 수 있습니다. 짬뽕 스프나 고추장은 한식 재료를 파는 마트나 대형마트에서 구입하실 수 있습니다. 요리를 시작하기 전에 모든 재료를 준비해놓으면 편리합니다. 요리를 즐기시길 바랍니다!짬뽕은 해물과 고기를 사용하는 전통적인 중국 요리이지만, 채식주의자를 위한 대체 재료를 사용하여 맛있는 채식 짬뽕을 만들 수 있습니다. 다음은 채식주의자를 위한 짬뽕 레시피입니다:\n",
      "\n",
      "재료:\n",
      "- 해물 대신 오이, 양배추, 새송이 버섯, 두부 등의 채소 활용\n",
      "- 돼지고기나 닭고기 대신 두부, 모두, 혹은 고기 대용품 활용\n",
      "- 양파, 대파, 마늘, 생강\n",
      "- 고추, 당근, 양배추\n",
      "- 짬뽕 스프 대신 된장, 고추장, 간장, 고추가루 활용\n",
      "\n",
      "대체 재료를 활용하여 기존 레시피를 준수하면서도 채식주의자를 위한 맛있는 짬뽕을 만들 수 있습니다. 채식주의자를 위한 대체 재료는 대부분 슈퍼마켓이나 한식 재료를 파는 마트에서 구입할 수 있습니다. 요리를 시작하기 전에 모든 재료를 준비해놓으면 편리하며, 기존 레시피의 양념이나 조리법을 따라가면 됩니다. 맛있는 채식 짬뽕 요리를 즐기시길 바랍니다!"
     ]
    },
    {
     "data": {
      "text/plain": [
       "AIMessageChunk(content='짬뽕은 해물과 고기를 사용하는 전통적인 중국 요리이지만, 채식주의자를 위한 대체 재료를 사용하여 맛있는 채식 짬뽕을 만들 수 있습니다. 다음은 채식주의자를 위한 짬뽕 레시피입니다:\\n\\n재료:\\n- 해물 대신 오이, 양배추, 새송이 버섯, 두부 등의 채소 활용\\n- 돼지고기나 닭고기 대신 두부, 모두, 혹은 고기 대용품 활용\\n- 양파, 대파, 마늘, 생강\\n- 고추, 당근, 양배추\\n- 짬뽕 스프 대신 된장, 고추장, 간장, 고추가루 활용\\n\\n대체 재료를 활용하여 기존 레시피를 준수하면서도 채식주의자를 위한 맛있는 짬뽕을 만들 수 있습니다. 채식주의자를 위한 대체 재료는 대부분 슈퍼마켓이나 한식 재료를 파는 마트에서 구입할 수 있습니다. 요리를 시작하기 전에 모든 재료를 준비해놓으면 편리하며, 기존 레시피의 양념이나 조리법을 따라가면 됩니다. 맛있는 채식 짬뽕 요리를 즐기시길 바랍니다!')"
      ]
     },
     "execution_count": 73,
     "metadata": {},
     "output_type": "execute_result"
    }
   ],
   "source": [
    "from langchain.chat_models import ChatOpenAI\n",
    "from langchain.prompts import ChatPromptTemplate\n",
    "from langchain.callbacks import StreamingStdOutCallbackHandler\n",
    "\n",
    "chat_model = ChatOpenAI(\n",
    "    temperature=0.1,\n",
    "    streaming=True,\n",
    "    callbacks=[StreamingStdOutCallbackHandler()] \n",
    "  )\n",
    "\n",
    "food_prompt = ChatPromptTemplate.from_messages([\n",
    "  (\"system\", \"당신은 요리 전문가 입니다. 당신은 요리 레시피와 함께 각각의 제료를 쉽게 얻는 방법을 알려주세요. 모든 답변은 한글로 답해주세요.\"),\n",
    "  (\"human\", \"저는 {food}를 요리하고 싶아요.\")\n",
    "])\n",
    "\n",
    "veg_food_prompt =ChatPromptTemplate.from_messages([\n",
    "  (\"system\", \"당신은 채식주의자를 위한 요리 전문가 입니다. 당신은 채식주의자를 위한 레시피와 대체 재료를 찾고 준비하는 방법을 설명합니다. 기존 레시피를 많이 변경해서는 안됩니다. 모든 답변은 한글로 답해주세요.\"),\n",
    "  (\"human\", \"저는 {veg_food}를 요리하고 싶아요.\")\n",
    "])\n",
    "\n",
    "food_chain = food_prompt | chat_model\n",
    "veg_food_chain = veg_food_prompt | chat_model\n",
    "\n",
    "final_chain = {\"veg_food\": food_chain} | veg_food_chain\n",
    "\n",
    "final_chain.invoke({\n",
    "  \"food\": \"짬뽕\"\n",
    "})\n"
   ]
  }
 ],
 "metadata": {
  "kernelspec": {
   "display_name": "env",
   "language": "python",
   "name": "python3"
  },
  "language_info": {
   "codemirror_mode": {
    "name": "ipython",
    "version": 3
   },
   "file_extension": ".py",
   "mimetype": "text/x-python",
   "name": "python",
   "nbconvert_exporter": "python",
   "pygments_lexer": "ipython3",
   "version": "3.11.6"
  }
 },
 "nbformat": 4,
 "nbformat_minor": 2
}
